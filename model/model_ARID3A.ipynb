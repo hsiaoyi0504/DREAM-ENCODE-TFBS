{
 "cells": [
  {
   "cell_type": "code",
   "execution_count": 1,
   "metadata": {
    "collapsed": true
   },
   "outputs": [],
   "source": [
    "import numpy as np\n",
    "from itertools import islice\n",
    "import os\n",
    "from sklearn.svm import SVC\n",
    "from sklearn.cross_validation import LeaveOneLabelOut, cross_val_score\n",
    "import time"
   ]
  },
  {
   "cell_type": "code",
   "execution_count": 2,
   "metadata": {
    "collapsed": true
   },
   "outputs": [],
   "source": [
    "def merge_feature(input_files_list):\n",
    "    x = []\n",
    "    for i, file in enumerate(input_files_list): \n",
    "        with open(file) as f:\n",
    "            if i ==0:\n",
    "                for j, line in enumerate(f):\n",
    "                    x.append([])\n",
    "                    temp = line.rstrip(os.linesep)\n",
    "                    temp = temp.split('\\t')\n",
    "                    temp = temp[3:]\n",
    "                    x[j] = temp\n",
    "            else:\n",
    "                for j, line in enumerate(f):\n",
    "                    temp = line.rstrip(os.linesep)\n",
    "                    temp = temp.split('\\t')\n",
    "                    temp = temp[3:]\n",
    "                    x[j].extend(temp)\n",
    "            f.close()\n",
    "    return x"
   ]
  },
  {
   "cell_type": "code",
   "execution_count": 3,
   "metadata": {
    "collapsed": true
   },
   "outputs": [],
   "source": [
    "def read_label(file_name):\n",
    "    y = []\n",
    "    with open(file_name) as f:\n",
    "        for line in islice(f,1,None):\n",
    "            temp = line.rstrip(os.linesep)\n",
    "            temp = temp.split('\\t')\n",
    "            temp = temp[-1]\n",
    "            y.append(temp)\n",
    "        f.close()\n",
    "    return y"
   ]
  },
  {
   "cell_type": "code",
   "execution_count": 4,
   "metadata": {
    "collapsed": true
   },
   "outputs": [],
   "source": [
    "def read_anno(file_name):\n",
    "    anno = []\n",
    "    with open(file_name) as f:\n",
    "        for line in f:\n",
    "            temp = line.rstrip(os.linesep)\n",
    "            temp = temp.split('\\t')\n",
    "            temp[0] = temp[0].lstrip('chr')\n",
    "            anno.append(temp)\n",
    "        f.close()\n",
    "    return anno"
   ]
  },
  {
   "cell_type": "code",
   "execution_count": 5,
   "metadata": {
    "collapsed": false
   },
   "outputs": [],
   "source": [
    "input_files_dir = '../../data/features/'\n",
    "input_files_list = [\n",
    "    'train_shape_feature_HelT.bed',\n",
    "    'train_shape_feature_MGW.bed',\n",
    "    'train_shape_feature_ProT.bed',\n",
    "    'train_shape_feature_Roll.bed',\n",
    "    'HepG2.dnase.train.feature'\n",
    "]\n",
    "input_files_list = [input_files_dir + i for i in input_files_list]\n",
    "x = merge_feature(input_files_list)\n",
    "y = read_label('../../data/ChIPseq/label/ARID3A.train.labels.tsv')\n",
    "anno = read_anno('../../data/annotations/train_regions.blacklistfiltered.bed')"
   ]
  },
  {
   "cell_type": "code",
   "execution_count": null,
   "metadata": {
    "collapsed": false
   },
   "outputs": [],
   "source": [
    "y1 = ['B' if i =='B' else 'U' for i in y]\n",
    "y2 = ['U' if i == 'U' else 'B' for i in y]"
   ]
  },
  {
   "cell_type": "code",
   "execution_count": null,
   "metadata": {
    "collapsed": false
   },
   "outputs": [],
   "source": [
    "for i in range(len(x)):\n",
    "    for j in range(len(x[i])):\n",
    "        if x[i][j] == 'na':\n",
    "            x[i][j] = np.nan\n",
    "        else:\n",
    "            x[i][j] = float(x[i][j])"
   ]
  },
  {
   "cell_type": "code",
   "execution_count": null,
   "metadata": {
    "collapsed": false
   },
   "outputs": [],
   "source": [
    "x = np.array(x)\n",
    "y1 = np.array(y1)\n",
    "y2 = np.array(y2)\n",
    "anno = np.array(anno)\n",
    "not_nan = ~np.isnan(x).any(axis=1)\n",
    "x_select = x[not_nan]\n",
    "y1_select = y1[not_nan]\n",
    "y2_select = y2[not_nan]\n",
    "anno_select = anno[not_nan]"
   ]
  },
  {
   "cell_type": "code",
   "execution_count": null,
   "metadata": {
    "collapsed": true
   },
   "outputs": [],
   "source": [
    "svc = SVC()\n",
    "start_time = time.time()\n",
    "svc.fit(x_select, y1_select)\n",
    "print(\"%s seconds\" % (time.time() - start_time))"
   ]
  },
  {
   "cell_type": "code",
   "execution_count": null,
   "metadata": {
    "collapsed": false
   },
   "outputs": [],
   "source": [
    "scores = cross_val_score(svc, x_select, y1_select,cv=LeaveOneLabelOut(anno_select[:,0]),\n",
    "        scoring='f1_weighted')\n",
    "print(np.mean(scores))"
   ]
  },
  {
   "cell_type": "code",
   "execution_count": null,
   "metadata": {
    "collapsed": true
   },
   "outputs": [],
   "source": [
    "scores = cross_val_score(svc, x_select, y2_select,cv=LeaveOneLabelOut(anno_select[:,0]),\n",
    "        scoring='f1_weighted')\n",
    "print(np.mean(scores))"
   ]
  }
 ],
 "metadata": {
  "anaconda-cloud": {},
  "kernelspec": {
   "display_name": "Python [Root]",
   "language": "python",
   "name": "Python [Root]"
  },
  "language_info": {
   "codemirror_mode": {
    "name": "ipython",
    "version": 3
   },
   "file_extension": ".py",
   "mimetype": "text/x-python",
   "name": "python",
   "nbconvert_exporter": "python",
   "pygments_lexer": "ipython3",
   "version": "3.5.2"
  }
 },
 "nbformat": 4,
 "nbformat_minor": 0
}
