{
 "cells": [
  {
   "cell_type": "code",
   "execution_count": 1,
   "metadata": {
    "collapsed": true
   },
   "outputs": [],
   "source": [
    "import os\n",
    "from os import listdir\n",
    "from os.path import isfile, join\n",
    "from itertools import islice"
   ]
  },
  {
   "cell_type": "code",
   "execution_count": 2,
   "metadata": {
    "collapsed": false
   },
   "outputs": [],
   "source": [
    "path = '../data/ChIPseq/label/'\n",
    "onlyfiles = [f for f in listdir(path) if isfile(join(path, f))]"
   ]
  },
  {
   "cell_type": "code",
   "execution_count": 3,
   "metadata": {
    "collapsed": false
   },
   "outputs": [
    {
     "name": "stdout",
     "output_type": "stream",
     "text": [
      "JUND:A:719959(1.39%) B:222013(0.43%) U:50734764(98.18%) Total:51676736\n",
      "TCF12:A:1109119(2.15%) B:377513(0.73%) U:50190104(97.12%) Total:51676736\n",
      "SPI1:A:631184(1.22%) B:200845(0.39%) U:50844707(98.39%) Total:51676736\n",
      "RFX5:A:643388(1.25%) B:55913(0.11%) U:50977435(98.65%) Total:51676736\n",
      "EP300:A:939194(1.82%) B:270116(0.52%) U:50467426(97.66%) Total:51676736\n",
      "CREB1:A:740497(1.43%) B:98554(0.19%) U:50837685(98.38%) Total:51676736\n",
      "TAF1:A:461398(0.89%) B:83276(0.16%) U:51132062(98.95%) Total:51676736\n",
      "GABPA:A:748716(1.45%) B:78403(0.15%) U:50849617(98.40%) Total:51676736\n",
      "ATF7:A:1385919(2.68%) B:345775(0.67%) U:49945042(96.65%) Total:51676736\n",
      "ARID3A:A:654244(1.27%) B:132702(0.26%) U:50889790(98.48%) Total:51676736\n",
      "ZNF143:A:424158(0.82%) B:103755(0.20%) U:51148823(98.98%) Total:51676736\n",
      "EGR1:A:596800(1.15%) B:58793(0.11%) U:51021143(98.73%) Total:51676736\n",
      "TCF7L2:A:804844(1.56%) B:143025(0.28%) U:50728867(98.17%) Total:51676736\n",
      "MAX:A:921674(1.78%) B:250775(0.49%) U:50504287(97.73%) Total:51676736\n",
      "ATF2:A:604202(1.17%) B:114210(0.22%) U:50958324(98.61%) Total:51676736\n",
      "MYC:A:904372(1.75%) B:151748(0.29%) U:50620616(97.96%) Total:51676736\n",
      "YY1:A:846231(1.64%) B:115293(0.22%) U:50715212(98.14%) Total:51676736\n",
      "SRF:A:307934(0.60%) B:18895(0.04%) U:51349907(99.37%) Total:51676736\n",
      "CTCF:A:699506(1.35%) B:305547(0.59%) U:50671683(98.06%) Total:51676736\n",
      "FOXA2:A:1207108(2.34%) B:374750(0.73%) U:50094878(96.94%) Total:51676736\n",
      "E2F6:A:769577(1.49%) B:65421(0.13%) U:50841738(98.38%) Total:51676736\n",
      "E2F1:A:504789(0.98%) B:55391(0.11%) U:51116556(98.92%) Total:51676736\n",
      "TEAD4:A:797196(1.54%) B:160358(0.31%) U:50719182(98.15%) Total:51676736\n",
      "GATA3:A:1098635(2.13%) B:398120(0.77%) U:50179981(97.10%) Total:51676736\n",
      "NANOG:A:415351(0.80%) B:32918(0.06%) U:51228467(99.13%) Total:51676736\n",
      "REST:A:661867(1.28%) B:94082(0.18%) U:50920787(98.54%) Total:51676736\n",
      "CEBPB:A:1632342(3.16%) B:397424(0.77%) U:49646970(96.07%) Total:51676736\n",
      "ATF3:A:1477891(2.86%) B:385404(0.75%) U:49813441(96.39%) Total:51676736\n",
      "HNF4A:A:390009(0.75%) B:106308(0.21%) U:51180419(99.04%) Total:51676736\n",
      "MAFK:A:772412(1.49%) B:201157(0.39%) U:50703167(98.12%) Total:51676736\n",
      "STAT3:A:567764(1.10%) B:108787(0.21%) U:51000185(98.69%) Total:51676736\n",
      "FOXA1:A:827188(1.60%) B:256632(0.50%) U:50592916(97.90%) Total:51676736\n"
     ]
    }
   ],
   "source": [
    "for i in onlyfiles:\n",
    "    A_count = 0\n",
    "    B_count = 0\n",
    "    U_count = 0\n",
    "    print(i.split('.')[0]+':',end='')\n",
    "    with open(path+i) as f:\n",
    "        for line in islice(f,1,None):\n",
    "            temp = line.rstrip(os.linesep)\n",
    "            temp = temp.split('\\t')\n",
    "            if temp[-1]=='A':\n",
    "                A_count += 1\n",
    "            elif temp[-1]=='B':\n",
    "                B_count += 1\n",
    "            else:\n",
    "                U_count += 1\n",
    "        f.close()\n",
    "    total = A_count + B_count + U_count\n",
    "    print('A:{}({:.2%}) B:{}({:.2%}) U:{}({:.2%}) Total:{}'.format(\n",
    "            A_count,A_count/total,B_count,B_count/total,U_count,U_count/total,total))    "
   ]
  },
  {
   "cell_type": "code",
   "execution_count": null,
   "metadata": {
    "collapsed": true
   },
   "outputs": [],
   "source": []
  }
 ],
 "metadata": {
  "anaconda-cloud": {},
  "kernelspec": {
   "display_name": "Python [Root]",
   "language": "python",
   "name": "Python [Root]"
  },
  "language_info": {
   "codemirror_mode": {
    "name": "ipython",
    "version": 3
   },
   "file_extension": ".py",
   "mimetype": "text/x-python",
   "name": "python",
   "nbconvert_exporter": "python",
   "pygments_lexer": "ipython3",
   "version": "3.5.2"
  }
 },
 "nbformat": 4,
 "nbformat_minor": 0
}
